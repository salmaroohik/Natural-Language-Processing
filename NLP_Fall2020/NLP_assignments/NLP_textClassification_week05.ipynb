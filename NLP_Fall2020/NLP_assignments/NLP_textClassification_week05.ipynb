{
 "cells": [
  {
   "cell_type": "markdown",
   "metadata": {},
   "source": [
    "***Salma Roohi Khayum                    801168027***"
   ]
  },
  {
   "cell_type": "markdown",
   "metadata": {},
   "source": [
    "Question 1 (5 points): Add a column at the end of the English and Italian data frames named ‘LANGUAGE’ which identifies the language of the ‘TEXT’ column. Create a single data frame by concatenating both the English and Italian data frames into one"
   ]
  },
  {
   "cell_type": "code",
   "execution_count": 1,
   "metadata": {},
   "outputs": [],
   "source": [
    "import pandas as pd\n",
    "df_en=pd.read_table('c:\\\\Users\\\\salma\\\\Downloads\\\\CONcreTEXT_trial_EN (1).tsv') #English dataframe \n",
    "df_it=pd.read_table('c:\\\\Users\\\\salma\\\\Downloads\\\\CONcreTEXT_trial_IT (1).tsv') #Italian dataframe"
   ]
  },
  {
   "cell_type": "code",
   "execution_count": 2,
   "metadata": {},
   "outputs": [],
   "source": [
    "df_en['LANGUAGE']='ENGLISH'"
   ]
  },
  {
   "cell_type": "code",
   "execution_count": 3,
   "metadata": {},
   "outputs": [],
   "source": [
    "df_it['LANGUAGE']='ITALIAN'"
   ]
  },
  {
   "cell_type": "code",
   "execution_count": 4,
   "metadata": {},
   "outputs": [],
   "source": [
    "df_merged=pd.concat([df_en,df_it])"
   ]
  },
  {
   "cell_type": "code",
   "execution_count": 5,
   "metadata": {},
   "outputs": [
    {
     "data": {
      "text/html": [
       "<div>\n",
       "<style scoped>\n",
       "    .dataframe tbody tr th:only-of-type {\n",
       "        vertical-align: middle;\n",
       "    }\n",
       "\n",
       "    .dataframe tbody tr th {\n",
       "        vertical-align: top;\n",
       "    }\n",
       "\n",
       "    .dataframe thead th {\n",
       "        text-align: right;\n",
       "    }\n",
       "</style>\n",
       "<table border=\"1\" class=\"dataframe\">\n",
       "  <thead>\n",
       "    <tr style=\"text-align: right;\">\n",
       "      <th></th>\n",
       "      <th>TARGET</th>\n",
       "      <th>POS</th>\n",
       "      <th>INDEX</th>\n",
       "      <th>TEXT</th>\n",
       "      <th>MEAN</th>\n",
       "      <th>LANGUAGE</th>\n",
       "    </tr>\n",
       "  </thead>\n",
       "  <tbody>\n",
       "    <tr>\n",
       "      <td>0</td>\n",
       "      <td>achievement</td>\n",
       "      <td>N</td>\n",
       "      <td>3</td>\n",
       "      <td>Bring up academic achievements , awards , and ...</td>\n",
       "      <td>3.06</td>\n",
       "      <td>ENGLISH</td>\n",
       "    </tr>\n",
       "    <tr>\n",
       "      <td>1</td>\n",
       "      <td>achievement</td>\n",
       "      <td>N</td>\n",
       "      <td>9</td>\n",
       "      <td>Please list people you have helped , your pers...</td>\n",
       "      <td>3.03</td>\n",
       "      <td>ENGLISH</td>\n",
       "    </tr>\n",
       "    <tr>\n",
       "      <td>2</td>\n",
       "      <td>activate</td>\n",
       "      <td>V</td>\n",
       "      <td>1</td>\n",
       "      <td>Add activated carbon straight to your vodka .</td>\n",
       "      <td>3.83</td>\n",
       "      <td>ENGLISH</td>\n",
       "    </tr>\n",
       "    <tr>\n",
       "      <td>3</td>\n",
       "      <td>activate</td>\n",
       "      <td>V</td>\n",
       "      <td>15</td>\n",
       "      <td>Place sensors around your garden , and when a ...</td>\n",
       "      <td>5.51</td>\n",
       "      <td>ENGLISH</td>\n",
       "    </tr>\n",
       "    <tr>\n",
       "      <td>4</td>\n",
       "      <td>adventure</td>\n",
       "      <td>N</td>\n",
       "      <td>9</td>\n",
       "      <td>Look for a partner that shares your level of a...</td>\n",
       "      <td>2.03</td>\n",
       "      <td>ENGLISH</td>\n",
       "    </tr>\n",
       "    <tr>\n",
       "      <td>...</td>\n",
       "      <td>...</td>\n",
       "      <td>...</td>\n",
       "      <td>...</td>\n",
       "      <td>...</td>\n",
       "      <td>...</td>\n",
       "      <td>...</td>\n",
       "    </tr>\n",
       "    <tr>\n",
       "      <td>95</td>\n",
       "      <td>verità</td>\n",
       "      <td>N</td>\n",
       "      <td>8</td>\n",
       "      <td>In un modo o nell' altro , la verità viene sem...</td>\n",
       "      <td>2.53</td>\n",
       "      <td>ITALIAN</td>\n",
       "    </tr>\n",
       "    <tr>\n",
       "      <td>96</td>\n",
       "      <td>viaggio</td>\n",
       "      <td>N</td>\n",
       "      <td>2</td>\n",
       "      <td>Organizza dei viaggi nel fine settimana quando...</td>\n",
       "      <td>5.03</td>\n",
       "      <td>ITALIAN</td>\n",
       "    </tr>\n",
       "    <tr>\n",
       "      <td>97</td>\n",
       "      <td>viaggio</td>\n",
       "      <td>N</td>\n",
       "      <td>6</td>\n",
       "      <td>Pesa le tue valigie prima del viaggio per evit...</td>\n",
       "      <td>4.84</td>\n",
       "      <td>ITALIAN</td>\n",
       "    </tr>\n",
       "    <tr>\n",
       "      <td>98</td>\n",
       "      <td>vista</td>\n",
       "      <td>N</td>\n",
       "      <td>6</td>\n",
       "      <td>è molto importante non perdere di vista la pro...</td>\n",
       "      <td>2.22</td>\n",
       "      <td>ITALIAN</td>\n",
       "    </tr>\n",
       "    <tr>\n",
       "      <td>99</td>\n",
       "      <td>vista</td>\n",
       "      <td>N</td>\n",
       "      <td>9</td>\n",
       "      <td>i conigli hanno un ottimo udito e un' ottima v...</td>\n",
       "      <td>5.13</td>\n",
       "      <td>ITALIAN</td>\n",
       "    </tr>\n",
       "  </tbody>\n",
       "</table>\n",
       "<p>200 rows × 6 columns</p>\n",
       "</div>"
      ],
      "text/plain": [
       "         TARGET POS  INDEX                                               TEXT  \\\n",
       "0   achievement   N      3  Bring up academic achievements , awards , and ...   \n",
       "1   achievement   N      9  Please list people you have helped , your pers...   \n",
       "2      activate   V      1     Add activated carbon straight to your vodka .    \n",
       "3      activate   V     15  Place sensors around your garden , and when a ...   \n",
       "4     adventure   N      9  Look for a partner that shares your level of a...   \n",
       "..          ...  ..    ...                                                ...   \n",
       "95       verità   N      8  In un modo o nell' altro , la verità viene sem...   \n",
       "96      viaggio   N      2  Organizza dei viaggi nel fine settimana quando...   \n",
       "97      viaggio   N      6  Pesa le tue valigie prima del viaggio per evit...   \n",
       "98        vista   N      6  è molto importante non perdere di vista la pro...   \n",
       "99        vista   N      9  i conigli hanno un ottimo udito e un' ottima v...   \n",
       "\n",
       "    MEAN LANGUAGE  \n",
       "0   3.06  ENGLISH  \n",
       "1   3.03  ENGLISH  \n",
       "2   3.83  ENGLISH  \n",
       "3   5.51  ENGLISH  \n",
       "4   2.03  ENGLISH  \n",
       "..   ...      ...  \n",
       "95  2.53  ITALIAN  \n",
       "96  5.03  ITALIAN  \n",
       "97  4.84  ITALIAN  \n",
       "98  2.22  ITALIAN  \n",
       "99  5.13  ITALIAN  \n",
       "\n",
       "[200 rows x 6 columns]"
      ]
     },
     "execution_count": 5,
     "metadata": {},
     "output_type": "execute_result"
    }
   ],
   "source": [
    "df_merged"
   ]
  },
  {
   "cell_type": "markdown",
   "metadata": {},
   "source": [
    "Question 2 (10 points): Using the sklearn classes CountVectorizer and TfidfTransformer create a training set using *all rows* of the ‘TEXT’ column from your merged dataframe.\n"
   ]
  },
  {
   "cell_type": "code",
   "execution_count": 6,
   "metadata": {},
   "outputs": [],
   "source": [
    "from sklearn.feature_extraction.text import CountVectorizer\n",
    "count_vector = CountVectorizer()\n",
    "X_train_vector_count = count_vector.fit_transform(df_merged.TEXT)"
   ]
  },
  {
   "cell_type": "code",
   "execution_count": 7,
   "metadata": {},
   "outputs": [],
   "source": [
    "from sklearn.feature_extraction.text import TfidfTransformer\n",
    "tfidf_transformer = TfidfTransformer()\n",
    "X_train_tfidf = tfidf_transformer.fit_transform(X_train_vector_count)"
   ]
  },
  {
   "cell_type": "markdown",
   "metadata": {},
   "source": [
    "Question 3 (2 points): Train and fit a Multinomial Naive Bayes algorithm on the training data. The target variable is the ‘LANGUAGE’ column in your merged dataframe. \n"
   ]
  },
  {
   "cell_type": "code",
   "execution_count": 8,
   "metadata": {},
   "outputs": [],
   "source": [
    "from sklearn.naive_bayes import MultinomialNB\n",
    "mnb = MultinomialNB().fit(X_train_tfidf, df_merged.LANGUAGE)"
   ]
  },
  {
   "cell_type": "markdown",
   "metadata": {},
   "source": [
    "Question 4 (3 points): Use your model to predict the language of the following two sentences: \n",
    "docs_new = ['Why does a rose smell sweet?', 'Pensa ai tuoi sentimenti di amore.']\n"
   ]
  },
  {
   "cell_type": "code",
   "execution_count": 9,
   "metadata": {},
   "outputs": [
    {
     "name": "stdout",
     "output_type": "stream",
     "text": [
      "'Why does a rose smell sweet?' => ENGLISH\n",
      "'Pensa ai tuoi sentimenti di amore.' => ITALIAN\n"
     ]
    }
   ],
   "source": [
    "docs_new = ['Why does a rose smell sweet?', 'Pensa ai tuoi sentimenti di amore.']\n",
    "X_new_vector_counts = count_vector.transform(docs_new)\n",
    "X_new_tfidf = tfidf_transformer.transform(X_new_vector_counts)\n",
    "\n",
    "predicted = mnb.predict(X_new_tfidf)\n",
    "\n",
    "for doc, language in zip(docs_new, predicted):\n",
    "    print('%r => %s' % (doc, language))"
   ]
  },
  {
   "cell_type": "markdown",
   "metadata": {},
   "source": [
    "Question 5**** (5 points): Test your model on at least 5 other sentences of your own choosing (both English and Italian) and report your results. "
   ]
  },
  {
   "cell_type": "code",
   "execution_count": 10,
   "metadata": {},
   "outputs": [
    {
     "name": "stdout",
     "output_type": "stream",
     "text": [
      "'When is the next football match?' => ENGLISH\n",
      "'Può parlare lentamente?' => ITALIAN\n",
      "'I want to learn ITALIAN' => ENGLISH\n",
      "'My father is a pharmaceutical distributor' => ENGLISH\n",
      "'È stato un piacere conoscerla.' => ITALIAN\n",
      "'I am from India' => ENGLISH\n",
      "'È stato un piacere conoscerla.' => ITALIAN\n",
      "'I love NLP' => ENGLISH\n",
      "\"C'è qualcuno che parla inglese?\" => ITALIAN\n",
      "\"Mi dispiace, ma non parlo bene l'italiano.\" => ITALIAN\n"
     ]
    }
   ],
   "source": [
    "docs_new = ['When is the next football match?','Può parlare lentamente?', 'I want to learn ITALIAN','My father is a pharmaceutical distributor','È stato un piacere conoscerla.',\n",
    "            'I am from India','È stato un piacere conoscerla.','I love NLP', 'C\\'è qualcuno che parla inglese?','Mi dispiace, ma non parlo bene l\\'italiano.']\n",
    "X_new_vector_counts = count_vector.transform(docs_new)\n",
    "X_new_tfidf = tfidf_transformer.transform(X_new_vector_counts)\n",
    "\n",
    "predicted = mnb.predict(X_new_tfidf)\n",
    "\n",
    "for doc, language in zip(docs_new, predicted):\n",
    "    print('%r => %s' % (doc, language))"
   ]
  },
  {
   "cell_type": "markdown",
   "metadata": {},
   "source": [
    "Extra Credit (10%) (open to all students): Bonus points for testing the model on a sentence of your own that the model predicts incorrectly. For example, input an English sentence but the model predicts Italian. Or vice versa. "
   ]
  },
  {
   "cell_type": "code",
   "execution_count": 11,
   "metadata": {},
   "outputs": [
    {
     "name": "stdout",
     "output_type": "stream",
     "text": [
      "'Parla inglese Leo? bellisimo' => ENGLISH\n",
      "'Riesco a capirla.' => ENGLISH\n",
      "'Te amo papa, ciao ' => ENGLISH\n",
      "'No change father dear' => ITALIAN\n",
      "'no icecream today baby' => ITALIAN\n"
     ]
    }
   ],
   "source": [
    "docs_new = ['Parla inglese Leo? bellisimo','Riesco a capirla.','Te amo papa, ciao ','No change father dear','no icecream today baby']\n",
    "X_new_vector_counts = count_vector.transform(docs_new)\n",
    "X_new_tfidf = tfidf_transformer.transform(X_new_vector_counts)\n",
    "\n",
    "predicted = mnb.predict(X_new_tfidf)\n",
    "\n",
    "for doc, language in zip(docs_new, predicted):\n",
    "    print('%r => %s' % (doc, language))"
   ]
  },
  {
   "cell_type": "code",
   "execution_count": null,
   "metadata": {},
   "outputs": [],
   "source": []
  }
 ],
 "metadata": {
  "kernelspec": {
   "display_name": "Python 3",
   "language": "python",
   "name": "python3"
  },
  "language_info": {
   "codemirror_mode": {
    "name": "ipython",
    "version": 3
   },
   "file_extension": ".py",
   "mimetype": "text/x-python",
   "name": "python",
   "nbconvert_exporter": "python",
   "pygments_lexer": "ipython3",
   "version": "3.7.4"
  }
 },
 "nbformat": 4,
 "nbformat_minor": 2
}
